{
 "cells": [
  {
   "cell_type": "code",
   "execution_count": 1,
   "id": "a5c4fac2-8903-4dc5-b61f-37c05a4d5dc5",
   "metadata": {},
   "outputs": [
    {
     "name": "stderr",
     "output_type": "stream",
     "text": [
      "100%|██████████████████████████████| 1000000/1000000 [00:23<00:00, 42056.40it/s]\n"
     ]
    },
    {
     "name": "stdout",
     "output_type": "stream",
     "text": [
      "1000000 runs in 24 seconds\n",
      "31.203% succeeded\n"
     ]
    }
   ],
   "source": [
    "from tqdm import tqdm\n",
    "\n",
    "import numpy as np\n",
    "\n",
    "import joblib\n",
    "import time\n",
    "\n",
    "def create_game() -> np.array:\n",
    "    \"\"\"\n",
    "    Returns:\n",
    "        np.array - representing the numbers in the boxes. \n",
    "        each box contains a random non-replaceable number\n",
    "        in the interval [1, 100].\n",
    "    \"\"\"\n",
    "    numbers = np.arange(1, 101)\n",
    "    np.random.shuffle(numbers)\n",
    "    game = numbers.reshape(10, 10)\n",
    "    return game\n",
    "\n",
    "def get_index(n: int) -> tuple:\n",
    "    \"\"\"\n",
    "    Input:\n",
    "        int - the number of a box\n",
    "    Returns:\n",
    "        tuple - indexes representing the location of the\n",
    "        box in its array.\n",
    "    \"\"\"\n",
    "    return lookup[n]\n",
    "    \n",
    "def play() -> int:\n",
    "    \"\"\"\n",
    "    Runs and instance of the game where by each prisoner \n",
    "    initially opens the box with their number and then \n",
    "    follows a looping path opening the box of the number\n",
    "    they found in the previous box.\n",
    "    \n",
    "    Returns:\n",
    "        int - 0 if loop size is greater than 50 else 1\n",
    "    \"\"\"\n",
    "\n",
    "    game = create_game()\n",
    "\n",
    "    for prisoner in range(1, 101):\n",
    "        current_number = prisoner\n",
    "        loop_size = 1\n",
    "        \n",
    "        while True:\n",
    "            # Check the box for the current number\n",
    "            number_in_box = game[get_index(current_number)]\n",
    "            if number_in_box == prisoner:\n",
    "                break\n",
    "\n",
    "            loop_size += 1\n",
    "\n",
    "            if loop_size > 50:\n",
    "                return 0\n",
    "\n",
    "            current_number = number_in_box\n",
    "            \n",
    "    return 1\n",
    "\n",
    "\n",
    "# Number of rounds to run\n",
    "n = 1000000\n",
    "# Represents the boxes\n",
    "boxes = np.arange(1, 101).reshape(10, 10)\n",
    "# Used for indexing the boxes in O(1) time\n",
    "lookup = {boxes[i, j]: (i, j) for i in range(10) for j in range(10)}\n",
    "\n",
    "# Generator: each element will run an instance of the game \n",
    "runner = (joblib.delayed(play)() for _ in tqdm(range(n)))\n",
    "\n",
    "# Time how long it takes \n",
    "start = time.time()\n",
    "\n",
    "# Runs each instance in parallel\n",
    "results = joblib.Parallel(n_jobs=-1)(runner)\n",
    "\n",
    "end = time.time()\n",
    "\n",
    "percentage_success = sum(results) / len(results) * 100\n",
    "\n",
    "print(f\"{n} runs in {round(end - start)} seconds\\n{round(percentage_success, 5)}% succeeded\")"
   ]
  },
  {
   "cell_type": "code",
   "execution_count": 1,
   "id": "b245309d-7459-4d04-81dc-5b04a90c7708",
   "metadata": {},
   "outputs": [
    {
     "data": {
      "text/plain": [
       "7.888609052210118e-31"
      ]
     },
     "execution_count": 1,
     "metadata": {},
     "output_type": "execute_result"
    }
   ],
   "source": [
    "0.5 ** 100"
   ]
  },
  {
   "cell_type": "code",
   "execution_count": null,
   "id": "87cb730c-04ce-482d-8ef3-9ee852deeb67",
   "metadata": {},
   "outputs": [],
   "source": []
  }
 ],
 "metadata": {
  "kernelspec": {
   "display_name": "DataSci",
   "language": "python",
   "name": "datasci"
  },
  "language_info": {
   "codemirror_mode": {
    "name": "ipython",
    "version": 3
   },
   "file_extension": ".py",
   "mimetype": "text/x-python",
   "name": "python",
   "nbconvert_exporter": "python",
   "pygments_lexer": "ipython3",
   "version": "3.11.4"
  }
 },
 "nbformat": 4,
 "nbformat_minor": 5
}
